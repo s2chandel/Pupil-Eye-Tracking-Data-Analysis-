{
 "cells": [
  {
   "cell_type": "code",
   "execution_count": 1,
   "metadata": {},
   "outputs": [],
   "source": [
    "import numpy as np\n",
    "import matplotlib.pyplot as plt\n",
    "import pandas as pd\n",
    "from scipy.signal import butter\n",
    "from scipy.signal import filtfilt\n",
    "%matplotlib inline\n",
    "plt.rcParams[\"figure.figsize\"] = [8,6]"
   ]
  },
  {
   "cell_type": "code",
   "execution_count": 2,
   "metadata": {},
   "outputs": [
    {
     "data": {
      "text/html": [
       "<div>\n",
       "<style scoped>\n",
       "    .dataframe tbody tr th:only-of-type {\n",
       "        vertical-align: middle;\n",
       "    }\n",
       "\n",
       "    .dataframe tbody tr th {\n",
       "        vertical-align: top;\n",
       "    }\n",
       "\n",
       "    .dataframe thead th {\n",
       "        text-align: right;\n",
       "    }\n",
       "</style>\n",
       "<table border=\"1\" class=\"dataframe\">\n",
       "  <thead>\n",
       "    <tr style=\"text-align: right;\">\n",
       "      <th></th>\n",
       "      <th>timestamp</th>\n",
       "      <th>index</th>\n",
       "      <th>id</th>\n",
       "      <th>confidence</th>\n",
       "      <th>norm_pos_x</th>\n",
       "      <th>norm_pos_y</th>\n",
       "      <th>diameter</th>\n",
       "      <th>method</th>\n",
       "      <th>ellipse_center_x</th>\n",
       "      <th>ellipse_center_y</th>\n",
       "      <th>...</th>\n",
       "      <th>circle_3d_normal_y</th>\n",
       "      <th>circle_3d_normal_z</th>\n",
       "      <th>circle_3d_radius</th>\n",
       "      <th>theta</th>\n",
       "      <th>phi</th>\n",
       "      <th>projected_sphere_center_x</th>\n",
       "      <th>projected_sphere_center_y</th>\n",
       "      <th>projected_sphere_axis_a</th>\n",
       "      <th>projected_sphere_axis_b</th>\n",
       "      <th>projected_sphere_angle</th>\n",
       "    </tr>\n",
       "  </thead>\n",
       "  <tbody>\n",
       "    <tr>\n",
       "      <th>3836</th>\n",
       "      <td>1520.532679</td>\n",
       "      <td>4152</td>\n",
       "      <td>0</td>\n",
       "      <td>0.607715</td>\n",
       "      <td>0.749638</td>\n",
       "      <td>0.454315</td>\n",
       "      <td>40.856699</td>\n",
       "      <td>3d c++</td>\n",
       "      <td>239.884045</td>\n",
       "      <td>130.964304</td>\n",
       "      <td>...</td>\n",
       "      <td>0.100082</td>\n",
       "      <td>-0.940006</td>\n",
       "      <td>1.871305</td>\n",
       "      <td>1.671047</td>\n",
       "      <td>-1.236830</td>\n",
       "      <td>191.173124</td>\n",
       "      <td>118.262915</td>\n",
       "      <td>218.550176</td>\n",
       "      <td>218.550176</td>\n",
       "      <td>90.0</td>\n",
       "    </tr>\n",
       "    <tr>\n",
       "      <th>3837</th>\n",
       "      <td>1520.564616</td>\n",
       "      <td>4153</td>\n",
       "      <td>0</td>\n",
       "      <td>0.578800</td>\n",
       "      <td>0.749659</td>\n",
       "      <td>0.454246</td>\n",
       "      <td>40.579776</td>\n",
       "      <td>3d c++</td>\n",
       "      <td>239.890875</td>\n",
       "      <td>130.981014</td>\n",
       "      <td>...</td>\n",
       "      <td>0.100205</td>\n",
       "      <td>-0.939981</td>\n",
       "      <td>1.858633</td>\n",
       "      <td>1.671169</td>\n",
       "      <td>-1.236788</td>\n",
       "      <td>191.173124</td>\n",
       "      <td>118.262915</td>\n",
       "      <td>218.550176</td>\n",
       "      <td>218.550176</td>\n",
       "      <td>90.0</td>\n",
       "    </tr>\n",
       "    <tr>\n",
       "      <th>3838</th>\n",
       "      <td>1520.596623</td>\n",
       "      <td>4154</td>\n",
       "      <td>0</td>\n",
       "      <td>0.734832</td>\n",
       "      <td>0.749657</td>\n",
       "      <td>0.454185</td>\n",
       "      <td>41.096267</td>\n",
       "      <td>3d c++</td>\n",
       "      <td>239.890143</td>\n",
       "      <td>130.995653</td>\n",
       "      <td>...</td>\n",
       "      <td>0.100329</td>\n",
       "      <td>-0.939955</td>\n",
       "      <td>1.882296</td>\n",
       "      <td>1.671295</td>\n",
       "      <td>-1.236746</td>\n",
       "      <td>191.173124</td>\n",
       "      <td>118.262915</td>\n",
       "      <td>218.550176</td>\n",
       "      <td>218.550176</td>\n",
       "      <td>90.0</td>\n",
       "    </tr>\n",
       "    <tr>\n",
       "      <th>3839</th>\n",
       "      <td>1520.632638</td>\n",
       "      <td>4155</td>\n",
       "      <td>0</td>\n",
       "      <td>0.794937</td>\n",
       "      <td>0.749664</td>\n",
       "      <td>0.454111</td>\n",
       "      <td>41.366692</td>\n",
       "      <td>3d c++</td>\n",
       "      <td>239.892322</td>\n",
       "      <td>131.013415</td>\n",
       "      <td>...</td>\n",
       "      <td>0.100473</td>\n",
       "      <td>-0.939926</td>\n",
       "      <td>1.894691</td>\n",
       "      <td>1.671439</td>\n",
       "      <td>-1.236698</td>\n",
       "      <td>191.173124</td>\n",
       "      <td>118.262915</td>\n",
       "      <td>218.550176</td>\n",
       "      <td>218.550176</td>\n",
       "      <td>90.0</td>\n",
       "    </tr>\n",
       "    <tr>\n",
       "      <th>3840</th>\n",
       "      <td>1520.664653</td>\n",
       "      <td>4156</td>\n",
       "      <td>0</td>\n",
       "      <td>0.723771</td>\n",
       "      <td>0.749680</td>\n",
       "      <td>0.454039</td>\n",
       "      <td>41.262426</td>\n",
       "      <td>3d c++</td>\n",
       "      <td>239.897642</td>\n",
       "      <td>131.030580</td>\n",
       "      <td>...</td>\n",
       "      <td>0.100602</td>\n",
       "      <td>-0.939899</td>\n",
       "      <td>1.889926</td>\n",
       "      <td>1.671569</td>\n",
       "      <td>-1.236655</td>\n",
       "      <td>191.173124</td>\n",
       "      <td>118.262915</td>\n",
       "      <td>218.550176</td>\n",
       "      <td>218.550176</td>\n",
       "      <td>90.0</td>\n",
       "    </tr>\n",
       "  </tbody>\n",
       "</table>\n",
       "<p>5 rows × 34 columns</p>\n",
       "</div>"
      ],
      "text/plain": [
       "        timestamp  index  id  confidence  norm_pos_x  norm_pos_y   diameter  \\\n",
       "3836  1520.532679   4152   0    0.607715    0.749638    0.454315  40.856699   \n",
       "3837  1520.564616   4153   0    0.578800    0.749659    0.454246  40.579776   \n",
       "3838  1520.596623   4154   0    0.734832    0.749657    0.454185  41.096267   \n",
       "3839  1520.632638   4155   0    0.794937    0.749664    0.454111  41.366692   \n",
       "3840  1520.664653   4156   0    0.723771    0.749680    0.454039  41.262426   \n",
       "\n",
       "      method  ellipse_center_x  ellipse_center_y           ...            \\\n",
       "3836  3d c++        239.884045        130.964304           ...             \n",
       "3837  3d c++        239.890875        130.981014           ...             \n",
       "3838  3d c++        239.890143        130.995653           ...             \n",
       "3839  3d c++        239.892322        131.013415           ...             \n",
       "3840  3d c++        239.897642        131.030580           ...             \n",
       "\n",
       "      circle_3d_normal_y  circle_3d_normal_z  circle_3d_radius     theta  \\\n",
       "3836            0.100082           -0.940006          1.871305  1.671047   \n",
       "3837            0.100205           -0.939981          1.858633  1.671169   \n",
       "3838            0.100329           -0.939955          1.882296  1.671295   \n",
       "3839            0.100473           -0.939926          1.894691  1.671439   \n",
       "3840            0.100602           -0.939899          1.889926  1.671569   \n",
       "\n",
       "           phi  projected_sphere_center_x  projected_sphere_center_y  \\\n",
       "3836 -1.236830                 191.173124                 118.262915   \n",
       "3837 -1.236788                 191.173124                 118.262915   \n",
       "3838 -1.236746                 191.173124                 118.262915   \n",
       "3839 -1.236698                 191.173124                 118.262915   \n",
       "3840 -1.236655                 191.173124                 118.262915   \n",
       "\n",
       "      projected_sphere_axis_a  projected_sphere_axis_b  projected_sphere_angle  \n",
       "3836               218.550176               218.550176                    90.0  \n",
       "3837               218.550176               218.550176                    90.0  \n",
       "3838               218.550176               218.550176                    90.0  \n",
       "3839               218.550176               218.550176                    90.0  \n",
       "3840               218.550176               218.550176                    90.0  \n",
       "\n",
       "[5 rows x 34 columns]"
      ]
     },
     "execution_count": 2,
     "metadata": {},
     "output_type": "execute_result"
    }
   ],
   "source": [
    "pupil = pd.read_csv('pupil_positions.csv') # reading data \n",
    "pupil.tail()"
   ]
  },
  {
   "cell_type": "code",
   "execution_count": 3,
   "metadata": {},
   "outputs": [],
   "source": [
    "pupil['time']= pupil['timestamp']-pupil['timestamp'][0] # filtering time"
   ]
  },
  {
   "cell_type": "code",
   "execution_count": 4,
   "metadata": {},
   "outputs": [
    {
     "name": "stderr",
     "output_type": "stream",
     "text": [
      "/home/shubham/anaconda3/lib/python3.6/site-packages/ipykernel_launcher.py:4: DeprecationWarning: \n",
      ".ix is deprecated. Please use\n",
      ".loc for label based indexing or\n",
      ".iloc for positional indexing\n",
      "\n",
      "See the documentation here:\n",
      "http://pandas.pydata.org/pandas-docs/stable/indexing.html#ix-indexer-is-deprecated\n",
      "  after removing the cwd from sys.path.\n",
      "/home/shubham/anaconda3/lib/python3.6/site-packages/ipykernel_launcher.py:5: DeprecationWarning: \n",
      ".ix is deprecated. Please use\n",
      ".loc for label based indexing or\n",
      ".iloc for positional indexing\n",
      "\n",
      "See the documentation here:\n",
      "http://pandas.pydata.org/pandas-docs/stable/indexing.html#ix-indexer-is-deprecated\n",
      "  \"\"\"\n",
      "/home/shubham/anaconda3/lib/python3.6/site-packages/ipykernel_launcher.py:6: DeprecationWarning: \n",
      ".ix is deprecated. Please use\n",
      ".loc for label based indexing or\n",
      ".iloc for positional indexing\n",
      "\n",
      "See the documentation here:\n",
      "http://pandas.pydata.org/pandas-docs/stable/indexing.html#ix-indexer-is-deprecated\n",
      "  \n"
     ]
    }
   ],
   "source": [
    "#time interpolation\n",
    "for ind in pupil[pupil[\"confidence\"]<0.6].index:\n",
    "    if ind-1 > 0 and ind+1 < pupil.shape[0]:\n",
    "        pupil.ix[ind, \"norm_pos_x\"] = pupil['norm_pos_x'].mean()\n",
    "        pupil.ix[ind, \"norm_pos_y\"] = pupil['norm_pos_y'].mean()\n",
    "        pupil.ix[ind, \"confidence\"] = pupil['confidence'].mean()"
   ]
  },
  {
   "cell_type": "code",
   "execution_count": 5,
   "metadata": {},
   "outputs": [],
   "source": [
    "# for ind in pupil[pupil[\"confidence\"]<0.4].index:\n",
    "#     if ind-1 > 0 and ind+1 < pupil.shape[0]:\n",
    "#         pupil.ix[ind, \"norm_pos_x\"] = NaN\n",
    "#         pupil.ix[ind, \"norm_pos_y\"] = NaN\n",
    "#         pupil.ix[ind, \"confidence\"] = NaN"
   ]
  },
  {
   "cell_type": "code",
   "execution_count": 6,
   "metadata": {},
   "outputs": [
    {
     "data": {
      "text/plain": [
       "[<matplotlib.lines.Line2D at 0x7fcc4ead2240>]"
      ]
     },
     "execution_count": 6,
     "metadata": {},
     "output_type": "execute_result"
    },
    {
     "data": {
      "image/png": "[encoded data removed]",
      "text/plain": [
       "<Figure size 432x288 with 1 Axes>"
      ]
     },
     "metadata": {},
     "output_type": "display_data"
    }
   ],
   "source": [
    "plt.ylim(0, 1.0) #limit at axis\n",
    "\n",
    "plt.plot(pupil['time'],pupil['norm_pos_x'])"
   ]
  },
  {
   "cell_type": "code",
   "execution_count": 7,
   "metadata": {},
   "outputs": [
    {
     "data": {
      "text/plain": [
       "[<matplotlib.lines.Line2D at 0x7fcc4ea8c358>]"
      ]
     },
     "execution_count": 7,
     "metadata": {},
     "output_type": "execute_result"
    },
    {
     "data": {
      "image/png": "[encoded data removed]",
      "text/plain": [
       "<Figure size 432x288 with 1 Axes>"
      ]
     },
     "metadata": {},
     "output_type": "display_data"
    }
   ],
   "source": [
    "plt.ylim(0, 1.0)\n",
    "plt.plot(pupil['time'],pupil['norm_pos_y'])"
   ]
  },
  {
   "cell_type": "code",
   "execution_count": 8,
   "metadata": {},
   "outputs": [
    {
     "data": {
      "text/plain": [
       "[<matplotlib.lines.Line2D at 0x7fcc548fa128>]"
      ]
     },
     "execution_count": 8,
     "metadata": {},
     "output_type": "execute_result"
    },
    {
     "data": {
      "image/png": "[encoded data removed]",
      "text/plain": [
       "<Figure size 432x288 with 1 Axes>"
      ]
     },
     "metadata": {},
     "output_type": "display_data"
    }
   ],
   "source": [
    "plt.ylim(0, 1.0)\n",
    "plt.xlim(0, 1.0)\n",
    "plt.plot(pupil['norm_pos_x'],pupil['norm_pos_y'])"
   ]
  },
  {
   "cell_type": "code",
   "execution_count": 9,
   "metadata": {},
   "outputs": [],
   "source": [
    "#slice rows\n",
    "pupil_normal = pupil[: 1750]\n",
    "pupil_dynamic = pupil[-1750 :]\n"
   ]
  },
  {
   "cell_type": "code",
   "execution_count": 10,
   "metadata": {},
   "outputs": [
    {
     "data": {
      "text/plain": [
       "<matplotlib.legend.Legend at 0x7fcc5490e828>"
      ]
     },
     "execution_count": 10,
     "metadata": {},
     "output_type": "execute_result"
    },
    {
     "data": {
      "image/png": "[encoded data removed]",
      "text/plain": [
       "<Figure size 432x288 with 1 Axes>"
      ]
     },
     "metadata": {},
     "output_type": "display_data"
    }
   ],
   "source": [
    "plt.ylim(0, 1.0)\n",
    "plt.plot(pupil_normal.reset_index(drop=True)['norm_pos_x'], label = 'Static')\n",
    "plt.plot(pupil_dynamic.reset_index(drop=True)['norm_pos_x'], label = 'Dynamic')\n",
    "plt.legend()"
   ]
  },
  {
   "cell_type": "code",
   "execution_count": 11,
   "metadata": {},
   "outputs": [
    {
     "data": {
      "text/plain": [
       "<matplotlib.legend.Legend at 0x7fcc4e8fe1d0>"
      ]
     },
     "execution_count": 11,
     "metadata": {},
     "output_type": "execute_result"
    },
    {
     "data": {
      "image/png": "[encoded data removed]",
      "text/plain": [
       "<Figure size 432x288 with 1 Axes>"
      ]
     },
     "metadata": {},
     "output_type": "display_data"
    }
   ],
   "source": [
    "plt.ylim(0, 1.0)\n",
    "plt.plot(pupil_normal.reset_index(drop=True)['norm_pos_y'], label = 'Static')\n",
    "plt.plot(pupil_dynamic.reset_index(drop=True)['norm_pos_y'], label = 'Dynamic')\n",
    "plt.legend()"
   ]
  },
  {
   "cell_type": "code",
   "execution_count": 12,
   "metadata": {},
   "outputs": [
    {
     "data": {
      "text/plain": [
       "<matplotlib.legend.Legend at 0x7fcc4e8e0f60>"
      ]
     },
     "execution_count": 12,
     "metadata": {},
     "output_type": "execute_result"
    },
    {
     "data": {
      "image/png": "[encoded data removed]",
      "text/plain": [
       "<Figure size 432x288 with 1 Axes>"
      ]
     },
     "metadata": {},
     "output_type": "display_data"
    }
   ],
   "source": [
    "plt.ylim(0, 1.0)\n",
    "plt.xlim(0, 1.0)\n",
    "\n",
    "plt.plot(pupil_normal.reset_index(drop=True)['norm_pos_x'], pupil_normal['norm_pos_y'],label = 'Static')\n",
    "plt.plot(pupil_dynamic.reset_index(drop=True)['norm_pos_x'], pupil_dynamic['norm_pos_y'],label = 'Dynamic')\n",
    "plt.legend()"
   ]
  },
  {
   "cell_type": "code",
   "execution_count": 13,
   "metadata": {},
   "outputs": [],
   "source": [
    "X_1 = pupil_normal['norm_pos_x'].mean()\n",
    "X_2 = pupil_dynamic['norm_pos_x'].mean()"
   ]
  },
  {
   "cell_type": "code",
   "execution_count": 14,
   "metadata": {},
   "outputs": [],
   "source": [
    "Y_1 = pupil_normal['norm_pos_y'].mean()\n",
    "Y_2 = pupil_dynamic['norm_pos_y'].mean()\n"
   ]
  },
  {
   "cell_type": "code",
   "execution_count": 15,
   "metadata": {},
   "outputs": [
    {
     "name": "stdout",
     "output_type": "stream",
     "text": [
      "0.730215115503006 0.47871978747597815\n"
     ]
    }
   ],
   "source": [
    "print(X_1, Y_1)"
   ]
  },
  {
   "cell_type": "code",
   "execution_count": 16,
   "metadata": {},
   "outputs": [
    {
     "name": "stdout",
     "output_type": "stream",
     "text": [
      "0.7458229837352766 0.4635719916741736\n"
     ]
    }
   ],
   "source": [
    "print(X_2, Y_2)"
   ]
  },
  {
   "cell_type": "code",
   "execution_count": 17,
   "metadata": {},
   "outputs": [
    {
     "data": {
      "text/plain": [
       "[<matplotlib.lines.Line2D at 0x7fcc4e88b160>]"
      ]
     },
     "execution_count": 17,
     "metadata": {},
     "output_type": "execute_result"
    },
    {
     "data": {
      "image/png": "[encoded data removed]",
      "text/plain": [
       "<Figure size 432x288 with 1 Axes>"
      ]
     },
     "metadata": {},
     "output_type": "display_data"
    }
   ],
   "source": [
    "plt.ylim(0, 1.0)\n",
    "plt.xlim(0, 1.0)\n",
    "plt.plot(X_1,Y_1,marker = 'o',markersize = 15)\n",
    "plt.plot(X_2,Y_2,marker = 'o',markersize = 15)\n"
   ]
  },
  {
   "cell_type": "code",
   "execution_count": 18,
   "metadata": {},
   "outputs": [
    {
     "data": {
      "text/plain": [
       "Ttest_indResult(statistic=80.7376715443841, pvalue=0.0)"
      ]
     },
     "execution_count": 18,
     "metadata": {},
     "output_type": "execute_result"
    }
   ],
   "source": [
    "from scipy.stats import ttest_ind\n",
    "ttest_ind(pupil_normal['norm_pos_y'], pupil_dynamic['norm_pos_y'],equal_var = False)\n"
   ]
  },
  {
   "cell_type": "markdown",
   "metadata": {},
   "source": [
    "# MSE"
   ]
  },
  {
   "cell_type": "code",
   "execution_count": 19,
   "metadata": {},
   "outputs": [
    {
     "data": {
      "text/plain": [
       "3.5618562369161625e-05"
      ]
     },
     "execution_count": 19,
     "metadata": {},
     "output_type": "execute_result"
    }
   ],
   "source": [
    "X_mean = pupil_normal['norm_pos_x'].mean()\n",
    "mse = ((X_mean - pupil_normal['norm_pos_x']) ** 2).mean(axis = None)\n",
    "mse"
   ]
  },
  {
   "cell_type": "code",
   "execution_count": 20,
   "metadata": {},
   "outputs": [
    {
     "data": {
      "text/plain": [
       "0.06328901146927428"
      ]
     },
     "execution_count": 20,
     "metadata": {},
     "output_type": "execute_result"
    }
   ],
   "source": [
    "Y_mean = pupil_normal['norm_pos_y'].mean()\n",
    "mse = ((X_mean - pupil_normal['norm_pos_y']) ** 2).mean(axis = None)\n",
    "mse"
   ]
  },
  {
   "cell_type": "code",
   "execution_count": 23,
   "metadata": {},
   "outputs": [
    {
     "data": {
      "text/plain": [
       "0.0002562866918652932"
      ]
     },
     "execution_count": 23,
     "metadata": {},
     "output_type": "execute_result"
    }
   ],
   "source": [
    "\n",
    "mse = ((X_mean - pupil_dynamic['norm_pos_x']) ** 2).mean(axis = None)\n",
    "mse"
   ]
  },
  {
   "cell_type": "code",
   "execution_count": 24,
   "metadata": {},
   "outputs": [
    {
     "data": {
      "text/plain": [
       "0.000258031493757714"
      ]
     },
     "execution_count": 24,
     "metadata": {},
     "output_type": "execute_result"
    }
   ],
   "source": [
    "\n",
    "mse = ((Y_mean - pupil_dynamic['norm_pos_y']) ** 2).mean(axis = None)\n",
    "mse"
   ]
  },
  {
   "cell_type": "markdown",
   "metadata": {},
   "source": [
    "# VELOCITY"
   ]
  },
  {
   "cell_type": "code",
   "execution_count": 25,
   "metadata": {},
   "outputs": [],
   "source": [
    "#calculating velocity using butter worth filter\n",
    "X_norm = pupil['norm_pos_x']\n",
    "Y_norm = pupil['norm_pos_y']\n",
    "f_s=300\n",
    "f_c=2\n",
    "b, a = butter(2, f_c/(f_s/2))\n",
    "Y = filtfilt(b, a, Y_norm)\n",
    "b, a = butter(2, f_c/(f_s/2))\n",
    "X = filtfilt(b, a, X_norm)\n",
    "f_c=100\n",
    "def smooth(a,WSZ = 5):\n",
    "    out0 = np.convolve(a,np.ones(WSZ,dtype=int),'valid')/WSZ    \n",
    "    r = np.arange(1,WSZ-1,2)\n",
    "    start = np.cumsum(a[:WSZ-1])[::2]/r\n",
    "    stop = (np.cumsum(a[:-WSZ:-1])[::2]/r)[::-1]\n",
    "    return np.concatenate((  start , out0, stop  ))\n",
    "b, a = butter(2, f_c/(f_s/2))\n",
    "dX = np.diff(filtfilt(b, a, X) * f_s)\n",
    "dX = smooth(dX)\n",
    "f_c=100\n",
    "b, a = butter(2, f_c/(f_s/2))\n",
    "dY = np.diff(filtfilt(b, a, Y) * f_s)\n",
    "dY = smooth(dY)\n"
   ]
  },
  {
   "cell_type": "code",
   "execution_count": 26,
   "metadata": {},
   "outputs": [
    {
     "data": {
      "text/plain": [
       "<matplotlib.legend.Legend at 0x7f7e46e4a518>"
      ]
     },
     "execution_count": 26,
     "metadata": {},
     "output_type": "execute_result"
    },
    {
     "data": {
      "image/png": "[encoded data removed]",
      "text/plain": [
       "<Figure size 432x288 with 1 Axes>"
      ]
     },
     "metadata": {},
     "output_type": "display_data"
    }
   ],
   "source": [
    "plt.plot(dX, label = 'dX')\n",
    "plt.legend()"
   ]
  },
  {
   "cell_type": "code",
   "execution_count": 29,
   "metadata": {},
   "outputs": [
    {
     "data": {
      "text/plain": [
       "<matplotlib.legend.Legend at 0x7f7e46da51d0>"
      ]
     },
     "execution_count": 29,
     "metadata": {},
     "output_type": "execute_result"
    },
    {
     "data": {
      "image/png": "[encoded data removed]",
      "text/plain": [
       "<Figure size 432x288 with 1 Axes>"
      ]
     },
     "metadata": {},
     "output_type": "display_data"
    }
   ],
   "source": [
    "plt.plot(dY, label = 'dY')\n",
    "plt.legend()"
   ]
  },
  {
   "cell_type": "code",
   "execution_count": null,
   "metadata": {},
   "outputs": [],
   "source": []
  },
  {
   "cell_type": "code",
   "execution_count": null,
   "metadata": {},
   "outputs": [],
   "source": []
  },
  {
   "cell_type": "code",
   "execution_count": null,
   "metadata": {},
   "outputs": [],
   "source": []
  }
 ],
 "metadata": {
  "kernelspec": {
   "display_name": "Python 3",
   "language": "python",
   "name": "python3"
  },
  "language_info": {
   "codemirror_mode": {
    "name": "ipython",
    "version": 3
   },
   "file_extension": ".py",
   "mimetype": "text/x-python",
   "name": "python",
   "nbconvert_exporter": "python",
   "pygments_lexer": "ipython3",
   "version": "3.6.5"
  }
 },
 "nbformat": 4,
 "nbformat_minor": 2
}
