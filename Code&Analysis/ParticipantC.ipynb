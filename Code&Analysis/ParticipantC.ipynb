{
 "cells": [
  {
   "cell_type": "code",
   "execution_count": 2,
   "metadata": {},
   "outputs": [],
   "source": [
    "import numpy as np\n",
    "import matplotlib.pyplot as plt\n",
    "import pandas as pd\n",
    "from scipy.signal import butter\n",
    "from scipy.signal import filtfilt\n",
    "%matplotlib inline\n",
    "plt.rcParams[\"figure.figsize\"] = [16,6]"
   ]
  },
  {
   "cell_type": "code",
   "execution_count": 3,
   "metadata": {},
   "outputs": [
    {
     "data": {
      "text/html": [
       "<div>\n",
       "<style scoped>\n",
       "    .dataframe tbody tr th:only-of-type {\n",
       "        vertical-align: middle;\n",
       "    }\n",
       "\n",
       "    .dataframe tbody tr th {\n",
       "        vertical-align: top;\n",
       "    }\n",
       "\n",
       "    .dataframe thead th {\n",
       "        text-align: right;\n",
       "    }\n",
       "</style>\n",
       "<table border=\"1\" class=\"dataframe\">\n",
       "  <thead>\n",
       "    <tr style=\"text-align: right;\">\n",
       "      <th></th>\n",
       "      <th>timestamp</th>\n",
       "      <th>index</th>\n",
       "      <th>id</th>\n",
       "      <th>confidence</th>\n",
       "      <th>norm_pos_x</th>\n",
       "      <th>norm_pos_y</th>\n",
       "      <th>diameter</th>\n",
       "      <th>method</th>\n",
       "      <th>ellipse_center_x</th>\n",
       "      <th>ellipse_center_y</th>\n",
       "      <th>...</th>\n",
       "      <th>circle_3d_normal_y</th>\n",
       "      <th>circle_3d_normal_z</th>\n",
       "      <th>circle_3d_radius</th>\n",
       "      <th>theta</th>\n",
       "      <th>phi</th>\n",
       "      <th>projected_sphere_center_x</th>\n",
       "      <th>projected_sphere_center_y</th>\n",
       "      <th>projected_sphere_axis_a</th>\n",
       "      <th>projected_sphere_axis_b</th>\n",
       "      <th>projected_sphere_angle</th>\n",
       "    </tr>\n",
       "  </thead>\n",
       "  <tbody>\n",
       "    <tr>\n",
       "      <th>0</th>\n",
       "      <td>1230.333359</td>\n",
       "      <td>0</td>\n",
       "      <td>0</td>\n",
       "      <td>1.0</td>\n",
       "      <td>0.753550</td>\n",
       "      <td>0.494553</td>\n",
       "      <td>46.868901</td>\n",
       "      <td>3d c++</td>\n",
       "      <td>241.135903</td>\n",
       "      <td>121.307332</td>\n",
       "      <td>...</td>\n",
       "      <td>-0.334263</td>\n",
       "      <td>-0.910077</td>\n",
       "      <td>2.030019</td>\n",
       "      <td>1.229974</td>\n",
       "      <td>-1.307815</td>\n",
       "      <td>199.51587</td>\n",
       "      <td>159.208092</td>\n",
       "      <td>229.420334</td>\n",
       "      <td>229.420334</td>\n",
       "      <td>90.0</td>\n",
       "    </tr>\n",
       "    <tr>\n",
       "      <th>1</th>\n",
       "      <td>1230.369361</td>\n",
       "      <td>0</td>\n",
       "      <td>0</td>\n",
       "      <td>1.0</td>\n",
       "      <td>0.753670</td>\n",
       "      <td>0.494420</td>\n",
       "      <td>46.850263</td>\n",
       "      <td>3d c++</td>\n",
       "      <td>241.174398</td>\n",
       "      <td>121.339183</td>\n",
       "      <td>...</td>\n",
       "      <td>-0.334029</td>\n",
       "      <td>-0.910088</td>\n",
       "      <td>2.029208</td>\n",
       "      <td>1.230222</td>\n",
       "      <td>-1.307533</td>\n",
       "      <td>199.51587</td>\n",
       "      <td>159.208092</td>\n",
       "      <td>229.420334</td>\n",
       "      <td>229.420334</td>\n",
       "      <td>90.0</td>\n",
       "    </tr>\n",
       "    <tr>\n",
       "      <th>2</th>\n",
       "      <td>1230.401363</td>\n",
       "      <td>1</td>\n",
       "      <td>0</td>\n",
       "      <td>1.0</td>\n",
       "      <td>0.753583</td>\n",
       "      <td>0.494463</td>\n",
       "      <td>46.817822</td>\n",
       "      <td>3d c++</td>\n",
       "      <td>241.146576</td>\n",
       "      <td>121.328785</td>\n",
       "      <td>...</td>\n",
       "      <td>-0.334102</td>\n",
       "      <td>-0.910117</td>\n",
       "      <td>2.027790</td>\n",
       "      <td>1.230144</td>\n",
       "      <td>-1.307754</td>\n",
       "      <td>199.51587</td>\n",
       "      <td>159.208092</td>\n",
       "      <td>229.420334</td>\n",
       "      <td>229.420334</td>\n",
       "      <td>90.0</td>\n",
       "    </tr>\n",
       "    <tr>\n",
       "      <th>3</th>\n",
       "      <td>1230.433339</td>\n",
       "      <td>2</td>\n",
       "      <td>0</td>\n",
       "      <td>1.0</td>\n",
       "      <td>0.753654</td>\n",
       "      <td>0.494829</td>\n",
       "      <td>46.891591</td>\n",
       "      <td>3d c++</td>\n",
       "      <td>241.169173</td>\n",
       "      <td>121.240957</td>\n",
       "      <td>...</td>\n",
       "      <td>-0.334747</td>\n",
       "      <td>-0.909824</td>\n",
       "      <td>2.031115</td>\n",
       "      <td>1.229459</td>\n",
       "      <td>-1.307462</td>\n",
       "      <td>199.51587</td>\n",
       "      <td>159.208092</td>\n",
       "      <td>229.420334</td>\n",
       "      <td>229.420334</td>\n",
       "      <td>90.0</td>\n",
       "    </tr>\n",
       "    <tr>\n",
       "      <th>4</th>\n",
       "      <td>1230.469345</td>\n",
       "      <td>3</td>\n",
       "      <td>0</td>\n",
       "      <td>1.0</td>\n",
       "      <td>0.753714</td>\n",
       "      <td>0.494715</td>\n",
       "      <td>46.947081</td>\n",
       "      <td>3d c++</td>\n",
       "      <td>241.188539</td>\n",
       "      <td>121.268370</td>\n",
       "      <td>...</td>\n",
       "      <td>-0.334552</td>\n",
       "      <td>-0.909858</td>\n",
       "      <td>2.033503</td>\n",
       "      <td>1.229666</td>\n",
       "      <td>-1.307328</td>\n",
       "      <td>199.51587</td>\n",
       "      <td>159.208092</td>\n",
       "      <td>229.420334</td>\n",
       "      <td>229.420334</td>\n",
       "      <td>90.0</td>\n",
       "    </tr>\n",
       "  </tbody>\n",
       "</table>\n",
       "<p>5 rows × 34 columns</p>\n",
       "</div>"
      ],
      "text/plain": [
       "     timestamp  index  id  confidence  norm_pos_x  norm_pos_y   diameter  \\\n",
       "0  1230.333359      0   0         1.0    0.753550    0.494553  46.868901   \n",
       "1  1230.369361      0   0         1.0    0.753670    0.494420  46.850263   \n",
       "2  1230.401363      1   0         1.0    0.753583    0.494463  46.817822   \n",
       "3  1230.433339      2   0         1.0    0.753654    0.494829  46.891591   \n",
       "4  1230.469345      3   0         1.0    0.753714    0.494715  46.947081   \n",
       "\n",
       "   method  ellipse_center_x  ellipse_center_y           ...            \\\n",
       "0  3d c++        241.135903        121.307332           ...             \n",
       "1  3d c++        241.174398        121.339183           ...             \n",
       "2  3d c++        241.146576        121.328785           ...             \n",
       "3  3d c++        241.169173        121.240957           ...             \n",
       "4  3d c++        241.188539        121.268370           ...             \n",
       "\n",
       "   circle_3d_normal_y  circle_3d_normal_z  circle_3d_radius     theta  \\\n",
       "0           -0.334263           -0.910077          2.030019  1.229974   \n",
       "1           -0.334029           -0.910088          2.029208  1.230222   \n",
       "2           -0.334102           -0.910117          2.027790  1.230144   \n",
       "3           -0.334747           -0.909824          2.031115  1.229459   \n",
       "4           -0.334552           -0.909858          2.033503  1.229666   \n",
       "\n",
       "        phi  projected_sphere_center_x  projected_sphere_center_y  \\\n",
       "0 -1.307815                  199.51587                 159.208092   \n",
       "1 -1.307533                  199.51587                 159.208092   \n",
       "2 -1.307754                  199.51587                 159.208092   \n",
       "3 -1.307462                  199.51587                 159.208092   \n",
       "4 -1.307328                  199.51587                 159.208092   \n",
       "\n",
       "   projected_sphere_axis_a  projected_sphere_axis_b  projected_sphere_angle  \n",
       "0               229.420334               229.420334                    90.0  \n",
       "1               229.420334               229.420334                    90.0  \n",
       "2               229.420334               229.420334                    90.0  \n",
       "3               229.420334               229.420334                    90.0  \n",
       "4               229.420334               229.420334                    90.0  \n",
       "\n",
       "[5 rows x 34 columns]"
      ]
     },
     "execution_count": 3,
     "metadata": {},
     "output_type": "execute_result"
    }
   ],
   "source": [
    "pupil = pd.read_csv('pupil_positions.csv') #read csv file\n",
    "pupil.head()"
   ]
  },
  {
   "cell_type": "code",
   "execution_count": 4,
   "metadata": {},
   "outputs": [
    {
     "data": {
      "text/plain": [
       "[<matplotlib.lines.Line2D at 0x7fc1c951fbe0>]"
      ]
     },
     "execution_count": 4,
     "metadata": {},
     "output_type": "execute_result"
    },
    {
     "data": {
      "image/png": "[encoded data removed]",
      "text/plain": [
       "<Figure size 432x288 with 1 Axes>"
      ]
     },
     "metadata": {},
     "output_type": "display_data"
    }
   ],
   "source": [
    "plt.plot(pupil['timestamp'],pupil['confidence'])"
   ]
  },
  {
   "cell_type": "code",
   "execution_count": 5,
   "metadata": {},
   "outputs": [],
   "source": [
    "pupil['time']= pupil['timestamp']-pupil['timestamp'][0] "
   ]
  },
  {
   "cell_type": "markdown",
   "metadata": {},
   "source": [
    "# Time Interpolation"
   ]
  },
  {
   "cell_type": "code",
   "execution_count": 6,
   "metadata": {},
   "outputs": [
    {
     "name": "stderr",
     "output_type": "stream",
     "text": [
      "/home/shubham/anaconda3/lib/python3.6/site-packages/ipykernel_launcher.py:3: DeprecationWarning: \n",
      ".ix is deprecated. Please use\n",
      ".loc for label based indexing or\n",
      ".iloc for positional indexing\n",
      "\n",
      "See the documentation here:\n",
      "http://pandas.pydata.org/pandas-docs/stable/indexing.html#ix-indexer-is-deprecated\n",
      "  This is separate from the ipykernel package so we can avoid doing imports until\n",
      "/home/shubham/anaconda3/lib/python3.6/site-packages/ipykernel_launcher.py:4: DeprecationWarning: \n",
      ".ix is deprecated. Please use\n",
      ".loc for label based indexing or\n",
      ".iloc for positional indexing\n",
      "\n",
      "See the documentation here:\n",
      "http://pandas.pydata.org/pandas-docs/stable/indexing.html#ix-indexer-is-deprecated\n",
      "  after removing the cwd from sys.path.\n",
      "/home/shubham/anaconda3/lib/python3.6/site-packages/ipykernel_launcher.py:5: DeprecationWarning: \n",
      ".ix is deprecated. Please use\n",
      ".loc for label based indexing or\n",
      ".iloc for positional indexing\n",
      "\n",
      "See the documentation here:\n",
      "http://pandas.pydata.org/pandas-docs/stable/indexing.html#ix-indexer-is-deprecated\n",
      "  \"\"\"\n"
     ]
    }
   ],
   "source": [
    "#time interpolation\n",
    "for ind in pupil[pupil[\"confidence\"]<0.5].index:\n",
    "    if ind-1 > 0 and ind+1 < pupil.shape[0]:\n",
    "        pupil.ix[ind, \"norm_pos_x\"] = pupil['norm_pos_x'].mean()\n",
    "        pupil.ix[ind, \"norm_pos_y\"] = pupil['norm_pos_y'].mean()\n",
    "        pupil.ix[ind, \"confidence\"] = pupil['confidence'].mean()"
   ]
  },
  {
   "cell_type": "code",
   "execution_count": 7,
   "metadata": {},
   "outputs": [
    {
     "data": {
      "text/plain": [
       "[<matplotlib.lines.Line2D at 0x7fc1c71d4e10>]"
      ]
     },
     "execution_count": 7,
     "metadata": {},
     "output_type": "execute_result"
    },
    {
     "data": {
      "image/png": "[encoded data removed]",
      "text/plain": [
       "<Figure size 432x288 with 1 Axes>"
      ]
     },
     "metadata": {},
     "output_type": "display_data"
    }
   ],
   "source": [
    "plt.ylim(0, 1.0)#limit at axis\n",
    "\n",
    "plt.plot(pupil['time'],pupil['norm_pos_x'])"
   ]
  },
  {
   "cell_type": "code",
   "execution_count": 8,
   "metadata": {},
   "outputs": [
    {
     "data": {
      "text/plain": [
       "[<matplotlib.lines.Line2D at 0x7fc1c9531470>]"
      ]
     },
     "execution_count": 8,
     "metadata": {},
     "output_type": "execute_result"
    },
    {
     "data": {
      "image/png": "[encoded data removed]",
      "text/plain": [
       "<Figure size 432x288 with 1 Axes>"
      ]
     },
     "metadata": {},
     "output_type": "display_data"
    }
   ],
   "source": [
    "plt.ylim(0, 1.0)\n",
    "plt.plot(pupil['time'],pupil['norm_pos_y'])"
   ]
  },
  {
   "cell_type": "code",
   "execution_count": 9,
   "metadata": {},
   "outputs": [
    {
     "data": {
      "text/plain": [
       "[<matplotlib.lines.Line2D at 0x7fc1c94f2ef0>]"
      ]
     },
     "execution_count": 9,
     "metadata": {},
     "output_type": "execute_result"
    },
    {
     "data": {
      "image/png": "[encoded data removed]",
      "text/plain": [
       "<Figure size 432x288 with 1 Axes>"
      ]
     },
     "metadata": {},
     "output_type": "display_data"
    }
   ],
   "source": [
    "plt.ylim(0, 1.0)\n",
    "plt.xlim(0, 1.0)\n",
    "plt.plot(pupil['norm_pos_x'],pupil['norm_pos_y'],marker = 'o',markersize = 10)"
   ]
  },
  {
   "cell_type": "code",
   "execution_count": 10,
   "metadata": {},
   "outputs": [],
   "source": [
    "pupil_normal = pupil[: 1800]\n",
    "pupil_dynamic = pupil[-1800 :]"
   ]
  },
  {
   "cell_type": "code",
   "execution_count": 11,
   "metadata": {},
   "outputs": [
    {
     "data": {
      "text/plain": [
       "<matplotlib.legend.Legend at 0x7fc1c70ea7f0>"
      ]
     },
     "execution_count": 11,
     "metadata": {},
     "output_type": "execute_result"
    },
    {
     "data": {
      "image/png": "[encoded data removed]",
      "text/plain": [
       "<Figure size 432x288 with 1 Axes>"
      ]
     },
     "metadata": {},
     "output_type": "display_data"
    }
   ],
   "source": [
    "plt.ylim(0, 1.0)\n",
    "plt.plot(pupil_normal.reset_index(drop=True)['norm_pos_x'], label = 'Static')\n",
    "plt.plot(pupil_dynamic.reset_index(drop=True)['norm_pos_x'], label = 'Dynamic')\n",
    "plt.legend()"
   ]
  },
  {
   "cell_type": "code",
   "execution_count": 12,
   "metadata": {},
   "outputs": [
    {
     "data": {
      "text/plain": [
       "<matplotlib.legend.Legend at 0x7fc1c7111be0>"
      ]
     },
     "execution_count": 12,
     "metadata": {},
     "output_type": "execute_result"
    },
    {
     "data": {
      "image/png": "[encoded data removed]",
      "text/plain": [
       "<Figure size 432x288 with 1 Axes>"
      ]
     },
     "metadata": {},
     "output_type": "display_data"
    }
   ],
   "source": [
    "plt.ylim(0, 1.0)\n",
    "plt.plot(pupil_normal.reset_index(drop=True)['norm_pos_y'], label = 'Static')\n",
    "plt.plot(pupil_dynamic.reset_index(drop=True)['norm_pos_y'], label = 'Dynamic')\n",
    "plt.legend()"
   ]
  },
  {
   "cell_type": "code",
   "execution_count": 13,
   "metadata": {
    "scrolled": true
   },
   "outputs": [
    {
     "data": {
      "text/plain": [
       "<matplotlib.legend.Legend at 0x7fc1c70470f0>"
      ]
     },
     "execution_count": 13,
     "metadata": {},
     "output_type": "execute_result"
    },
    {
     "data": {
      "image/png": "[encoded data removed]",
      "text/plain": [
       "<Figure size 432x288 with 1 Axes>"
      ]
     },
     "metadata": {},
     "output_type": "display_data"
    }
   ],
   "source": [
    "plt.ylim(0, 1.0)\n",
    "plt.xlim(0, 1.0)\n",
    "\n",
    "plt.plot(pupil_normal.reset_index(drop=True)['norm_pos_x'], pupil_normal['norm_pos_y'],label = 'Static',marker = 'o',markersize = 10)\n",
    "plt.plot(pupil_dynamic.reset_index(drop=True)['norm_pos_x'], pupil_dynamic['norm_pos_y'],label = 'Dynamic',marker = 'o',markersize = 10)\n",
    "plt.legend()"
   ]
  },
  {
   "cell_type": "code",
   "execution_count": 14,
   "metadata": {},
   "outputs": [],
   "source": [
    "X_1 = pupil_normal['norm_pos_x'].mean()\n",
    "X_2 = pupil_dynamic['norm_pos_x'].mean()"
   ]
  },
  {
   "cell_type": "code",
   "execution_count": 15,
   "metadata": {},
   "outputs": [],
   "source": [
    "Y_1 = pupil_normal['norm_pos_y'].mean()\n",
    "Y_2 = pupil_dynamic['norm_pos_y'].mean()\n"
   ]
  },
  {
   "cell_type": "code",
   "execution_count": 16,
   "metadata": {},
   "outputs": [
    {
     "data": {
      "text/plain": [
       "[<matplotlib.lines.Line2D at 0x7fc1c7073b00>]"
      ]
     },
     "execution_count": 16,
     "metadata": {},
     "output_type": "execute_result"
    },
    {
     "data": {
      "image/png": "[encoded data removed]",
      "text/plain": [
       "<Figure size 432x288 with 1 Axes>"
      ]
     },
     "metadata": {},
     "output_type": "display_data"
    }
   ],
   "source": [
    "plt.ylim(0, 1.0)\n",
    "plt.xlim(0, 1.0)\n",
    "plt.plot(X_1,Y_1,marker = 'o',markersize = 15)\n",
    "plt.plot(X_2,Y_2,marker = 'o',markersize = 15)"
   ]
  },
  {
   "cell_type": "markdown",
   "metadata": {},
   "source": [
    "# ttest"
   ]
  },
  {
   "cell_type": "code",
   "execution_count": 17,
   "metadata": {},
   "outputs": [
    {
     "data": {
      "text/plain": [
       "Ttest_indResult(statistic=-114.44034629299438, pvalue=0.0)"
      ]
     },
     "execution_count": 17,
     "metadata": {},
     "output_type": "execute_result"
    }
   ],
   "source": [
    "from scipy.stats import ttest_ind\n",
    "t1 = ttest_ind(pupil_normal['norm_pos_x'], pupil_dynamic['norm_pos_x'])\n",
    "t1"
   ]
  },
  {
   "cell_type": "markdown",
   "metadata": {},
   "source": [
    "# MSE"
   ]
  },
  {
   "cell_type": "code",
   "execution_count": 18,
   "metadata": {},
   "outputs": [
    {
     "data": {
      "text/plain": [
       "3.1937537998420556e-05"
      ]
     },
     "execution_count": 18,
     "metadata": {},
     "output_type": "execute_result"
    }
   ],
   "source": [
    "X_mean = pupil_normal['norm_pos_x'].mean()\n",
    "mse = ((X_mean - pupil_normal['norm_pos_x']) ** 2).mean(axis = None)\n",
    "mse"
   ]
  },
  {
   "cell_type": "code",
   "execution_count": 19,
   "metadata": {},
   "outputs": [
    {
     "data": {
      "text/plain": [
       "0.07802427686971934"
      ]
     },
     "execution_count": 19,
     "metadata": {},
     "output_type": "execute_result"
    }
   ],
   "source": [
    "Y_mean = pupil_normal['norm_pos_y'].mean()\n",
    "mse = ((X_mean - pupil_normal['norm_pos_y']) ** 2).mean(axis = None)\n",
    "mse"
   ]
  },
  {
   "cell_type": "code",
   "execution_count": 20,
   "metadata": {},
   "outputs": [
    {
     "data": {
      "text/plain": [
       "0.00039106542292297904"
      ]
     },
     "execution_count": 20,
     "metadata": {},
     "output_type": "execute_result"
    }
   ],
   "source": [
    "\n",
    "mse = ((X_mean - pupil_dynamic['norm_pos_x']) ** 2).mean(axis = None)\n",
    "mse"
   ]
  },
  {
   "cell_type": "code",
   "execution_count": 21,
   "metadata": {},
   "outputs": [
    {
     "data": {
      "text/plain": [
       "0.00014879222231906156"
      ]
     },
     "execution_count": 21,
     "metadata": {},
     "output_type": "execute_result"
    }
   ],
   "source": [
    "\n",
    "mse = ((Y_mean - pupil_dynamic['norm_pos_y']) ** 2).mean(axis = None)\n",
    "mse"
   ]
  },
  {
   "cell_type": "code",
   "execution_count": null,
   "metadata": {},
   "outputs": [],
   "source": []
  },
  {
   "cell_type": "markdown",
   "metadata": {},
   "source": [
    "# VELOCITY"
   ]
  },
  {
   "cell_type": "code",
   "execution_count": 22,
   "metadata": {},
   "outputs": [],
   "source": [
    "X_norm = pupil['norm_pos_x']\n",
    "Y_norm = pupil['norm_pos_y']\n",
    "f_s=300\n",
    "f_c=2\n",
    "b, a = butter(2, f_c/(f_s/2))\n",
    "Y = filtfilt(b, a, Y_norm)\n",
    "b, a = butter(2, f_c/(f_s/2))\n",
    "X = filtfilt(b, a, X_norm)\n",
    "f_c=100\n",
    "def smooth(a,WSZ = 5):\n",
    "    out0 = np.convolve(a,np.ones(WSZ,dtype=int),'valid')/WSZ    \n",
    "    r = np.arange(1,WSZ-1,2)\n",
    "    start = np.cumsum(a[:WSZ-1])[::2]/r\n",
    "    stop = (np.cumsum(a[:-WSZ:-1])[::2]/r)[::-1]\n",
    "    return np.concatenate((  start , out0, stop  ))\n",
    "b, a = butter(2, f_c/(f_s/2))\n",
    "dX = np.diff(filtfilt(b, a, X) * f_s)\n",
    "dX = smooth(dX)\n",
    "f_c=100\n",
    "b, a = butter(2, f_c/(f_s/2))\n",
    "dY = np.diff(filtfilt(b, a, Y) * f_s)\n",
    "dY = smooth(dY)\n"
   ]
  },
  {
   "cell_type": "code",
   "execution_count": 25,
   "metadata": {},
   "outputs": [
    {
     "data": {
      "text/plain": [
       "<matplotlib.legend.Legend at 0x7fc1c6eae898>"
      ]
     },
     "execution_count": 25,
     "metadata": {},
     "output_type": "execute_result"
    },
    {
     "data": {
      "image/png": "[encoded data removed]",
      "text/plain": [
       "<Figure size 432x288 with 1 Axes>"
      ]
     },
     "metadata": {},
     "output_type": "display_data"
    }
   ],
   "source": [
    "plt.plot(dX, label = 'dX')\n",
    "plt.legend()"
   ]
  },
  {
   "cell_type": "code",
   "execution_count": 24,
   "metadata": {},
   "outputs": [
    {
     "data": {
      "text/plain": [
       "<matplotlib.legend.Legend at 0x7fc1c6fccbe0>"
      ]
     },
     "execution_count": 24,
     "metadata": {},
     "output_type": "execute_result"
    },
    {
     "data": {
      "image/png": "[encoded data removed]",
      "text/plain": [
       "<Figure size 432x288 with 1 Axes>"
      ]
     },
     "metadata": {},
     "output_type": "display_data"
    }
   ],
   "source": [
    "plt.plot(dY, label = 'dY')\n",
    "plt.legend()"
   ]
  },
  {
   "cell_type": "code",
   "execution_count": null,
   "metadata": {},
   "outputs": [],
   "source": []
  },
  {
   "cell_type": "code",
   "execution_count": null,
   "metadata": {},
   "outputs": [],
   "source": []
  }
 ],
 "metadata": {
  "kernelspec": {
   "display_name": "Python 3",
   "language": "python",
   "name": "python3"
  },
  "language_info": {
   "codemirror_mode": {
    "name": "ipython",
    "version": 3
   },
   "file_extension": ".py",
   "mimetype": "text/x-python",
   "name": "python",
   "nbconvert_exporter": "python",
   "pygments_lexer": "ipython3",
   "version": "3.6.5"
  }
 },
 "nbformat": 4,
 "nbformat_minor": 2
}
