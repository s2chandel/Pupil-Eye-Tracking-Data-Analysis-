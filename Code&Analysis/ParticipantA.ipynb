{
 "cells": [
  {
   "cell_type": "code",
   "execution_count": 1,
   "metadata": {
    "collapsed": true
   },
   "outputs": [],
   "source": [
    "import numpy as np\n",
    "import matplotlib.pyplot as plt\n",
    "import pandas as pd\n",
    "from scipy.signal import butter\n",
    "from scipy.signal import filtfilt\n",
    "%matplotlib inline\n",
    "plt.rcParams[\"figure.figsize\"] = [16,6]"
   ]
  },
  {
   "cell_type": "code",
   "execution_count": 2,
   "metadata": {},
   "outputs": [
    {
     "data": {
      "text/html": [
       "<div>\n",
       "<style scoped>\n",
       "    .dataframe tbody tr th:only-of-type {\n",
       "        vertical-align: middle;\n",
       "    }\n",
       "\n",
       "    .dataframe tbody tr th {\n",
       "        vertical-align: top;\n",
       "    }\n",
       "\n",
       "    .dataframe thead th {\n",
       "        text-align: right;\n",
       "    }\n",
       "</style>\n",
       "<table border=\"1\" class=\"dataframe\">\n",
       "  <thead>\n",
       "    <tr style=\"text-align: right;\">\n",
       "      <th></th>\n",
       "      <th>timestamp</th>\n",
       "      <th>index</th>\n",
       "      <th>id</th>\n",
       "      <th>confidence</th>\n",
       "      <th>norm_pos_x</th>\n",
       "      <th>norm_pos_y</th>\n",
       "      <th>diameter</th>\n",
       "      <th>method</th>\n",
       "      <th>ellipse_center_x</th>\n",
       "      <th>ellipse_center_y</th>\n",
       "      <th>...</th>\n",
       "      <th>circle_3d_normal_y</th>\n",
       "      <th>circle_3d_normal_z</th>\n",
       "      <th>circle_3d_radius</th>\n",
       "      <th>theta</th>\n",
       "      <th>phi</th>\n",
       "      <th>projected_sphere_center_x</th>\n",
       "      <th>projected_sphere_center_y</th>\n",
       "      <th>projected_sphere_axis_a</th>\n",
       "      <th>projected_sphere_axis_b</th>\n",
       "      <th>projected_sphere_angle</th>\n",
       "    </tr>\n",
       "  </thead>\n",
       "  <tbody>\n",
       "    <tr>\n",
       "      <th>0</th>\n",
       "      <td>795.510979</td>\n",
       "      <td>871</td>\n",
       "      <td>0</td>\n",
       "      <td>0.874619</td>\n",
       "      <td>0.631427</td>\n",
       "      <td>0.724152</td>\n",
       "      <td>32.243767</td>\n",
       "      <td>3d c++</td>\n",
       "      <td>202.056504</td>\n",
       "      <td>66.203449</td>\n",
       "      <td>...</td>\n",
       "      <td>-0.436971</td>\n",
       "      <td>-0.865055</td>\n",
       "      <td>1.463203</td>\n",
       "      <td>1.118568</td>\n",
       "      <td>-1.293258</td>\n",
       "      <td>168.071202</td>\n",
       "      <td>123.224489</td>\n",
       "      <td>223.217321</td>\n",
       "      <td>223.217321</td>\n",
       "      <td>90.0</td>\n",
       "    </tr>\n",
       "    <tr>\n",
       "      <th>1</th>\n",
       "      <td>795.543001</td>\n",
       "      <td>872</td>\n",
       "      <td>0</td>\n",
       "      <td>0.815463</td>\n",
       "      <td>0.631566</td>\n",
       "      <td>0.724168</td>\n",
       "      <td>32.065203</td>\n",
       "      <td>3d c++</td>\n",
       "      <td>202.101047</td>\n",
       "      <td>66.199600</td>\n",
       "      <td>...</td>\n",
       "      <td>-0.436997</td>\n",
       "      <td>-0.864946</td>\n",
       "      <td>1.455135</td>\n",
       "      <td>1.118539</td>\n",
       "      <td>-1.292863</td>\n",
       "      <td>168.071202</td>\n",
       "      <td>123.224489</td>\n",
       "      <td>223.217321</td>\n",
       "      <td>223.217321</td>\n",
       "      <td>90.0</td>\n",
       "    </tr>\n",
       "    <tr>\n",
       "      <th>2</th>\n",
       "      <td>795.574957</td>\n",
       "      <td>873</td>\n",
       "      <td>0</td>\n",
       "      <td>0.820740</td>\n",
       "      <td>0.631445</td>\n",
       "      <td>0.723708</td>\n",
       "      <td>32.104464</td>\n",
       "      <td>3d c++</td>\n",
       "      <td>202.062296</td>\n",
       "      <td>66.310011</td>\n",
       "      <td>...</td>\n",
       "      <td>-0.436117</td>\n",
       "      <td>-0.865483</td>\n",
       "      <td>1.456750</td>\n",
       "      <td>1.119518</td>\n",
       "      <td>-1.293378</td>\n",
       "      <td>168.071202</td>\n",
       "      <td>123.224489</td>\n",
       "      <td>223.217321</td>\n",
       "      <td>223.217321</td>\n",
       "      <td>90.0</td>\n",
       "    </tr>\n",
       "    <tr>\n",
       "      <th>3</th>\n",
       "      <td>795.610959</td>\n",
       "      <td>874</td>\n",
       "      <td>0</td>\n",
       "      <td>0.739465</td>\n",
       "      <td>0.631357</td>\n",
       "      <td>0.723108</td>\n",
       "      <td>32.477256</td>\n",
       "      <td>3d c++</td>\n",
       "      <td>202.034314</td>\n",
       "      <td>66.453975</td>\n",
       "      <td>...</td>\n",
       "      <td>-0.434997</td>\n",
       "      <td>-0.866115</td>\n",
       "      <td>1.473465</td>\n",
       "      <td>1.120761</td>\n",
       "      <td>-1.293826</td>\n",
       "      <td>168.071202</td>\n",
       "      <td>123.224489</td>\n",
       "      <td>223.217321</td>\n",
       "      <td>223.217321</td>\n",
       "      <td>90.0</td>\n",
       "    </tr>\n",
       "    <tr>\n",
       "      <th>4</th>\n",
       "      <td>795.642958</td>\n",
       "      <td>875</td>\n",
       "      <td>0</td>\n",
       "      <td>0.784825</td>\n",
       "      <td>0.631401</td>\n",
       "      <td>0.722607</td>\n",
       "      <td>32.600275</td>\n",
       "      <td>3d c++</td>\n",
       "      <td>202.048339</td>\n",
       "      <td>66.574369</td>\n",
       "      <td>...</td>\n",
       "      <td>-0.434055</td>\n",
       "      <td>-0.866564</td>\n",
       "      <td>1.478904</td>\n",
       "      <td>1.121807</td>\n",
       "      <td>-1.293876</td>\n",
       "      <td>168.071202</td>\n",
       "      <td>123.224489</td>\n",
       "      <td>223.217321</td>\n",
       "      <td>223.217321</td>\n",
       "      <td>90.0</td>\n",
       "    </tr>\n",
       "  </tbody>\n",
       "</table>\n",
       "<p>5 rows × 34 columns</p>\n",
       "</div>"
      ],
      "text/plain": [
       "    timestamp  index  id  confidence  norm_pos_x  norm_pos_y   diameter  \\\n",
       "0  795.510979    871   0    0.874619    0.631427    0.724152  32.243767   \n",
       "1  795.543001    872   0    0.815463    0.631566    0.724168  32.065203   \n",
       "2  795.574957    873   0    0.820740    0.631445    0.723708  32.104464   \n",
       "3  795.610959    874   0    0.739465    0.631357    0.723108  32.477256   \n",
       "4  795.642958    875   0    0.784825    0.631401    0.722607  32.600275   \n",
       "\n",
       "   method  ellipse_center_x  ellipse_center_y           ...            \\\n",
       "0  3d c++        202.056504         66.203449           ...             \n",
       "1  3d c++        202.101047         66.199600           ...             \n",
       "2  3d c++        202.062296         66.310011           ...             \n",
       "3  3d c++        202.034314         66.453975           ...             \n",
       "4  3d c++        202.048339         66.574369           ...             \n",
       "\n",
       "   circle_3d_normal_y  circle_3d_normal_z  circle_3d_radius     theta  \\\n",
       "0           -0.436971           -0.865055          1.463203  1.118568   \n",
       "1           -0.436997           -0.864946          1.455135  1.118539   \n",
       "2           -0.436117           -0.865483          1.456750  1.119518   \n",
       "3           -0.434997           -0.866115          1.473465  1.120761   \n",
       "4           -0.434055           -0.866564          1.478904  1.121807   \n",
       "\n",
       "        phi  projected_sphere_center_x  projected_sphere_center_y  \\\n",
       "0 -1.293258                 168.071202                 123.224489   \n",
       "1 -1.292863                 168.071202                 123.224489   \n",
       "2 -1.293378                 168.071202                 123.224489   \n",
       "3 -1.293826                 168.071202                 123.224489   \n",
       "4 -1.293876                 168.071202                 123.224489   \n",
       "\n",
       "   projected_sphere_axis_a  projected_sphere_axis_b  projected_sphere_angle  \n",
       "0               223.217321               223.217321                    90.0  \n",
       "1               223.217321               223.217321                    90.0  \n",
       "2               223.217321               223.217321                    90.0  \n",
       "3               223.217321               223.217321                    90.0  \n",
       "4               223.217321               223.217321                    90.0  \n",
       "\n",
       "[5 rows x 34 columns]"
      ]
     },
     "execution_count": 2,
     "metadata": {},
     "output_type": "execute_result"
    }
   ],
   "source": [
    "pupil = pd.read_csv('pupil_positions.csv')\n",
    "pupil.head()"
   ]
  },
  {
   "cell_type": "code",
   "execution_count": 3,
   "metadata": {},
   "outputs": [
    {
     "data": {
      "text/plain": [
       "[<matplotlib.lines.Line2D at 0x7fbe45605438>]"
      ]
     },
     "execution_count": 3,
     "metadata": {},
     "output_type": "execute_result"
    },
    {
     "data": {
      "image/png": "[encoded data removed]",
      "text/plain": [
       "<Figure size 432x288 with 1 Axes>"
      ]
     },
     "metadata": {},
     "output_type": "display_data"
    }
   ],
   "source": [
    "plt.plot(pupil['timestamp'],pupil['confidence'])"
   ]
  },
  {
   "cell_type": "code",
   "execution_count": 4,
   "metadata": {
    "collapsed": true
   },
   "outputs": [],
   "source": [
    "pupil['time']= pupil['timestamp']-pupil['timestamp'][0] "
   ]
  },
  {
   "cell_type": "code",
   "execution_count": 5,
   "metadata": {},
   "outputs": [
    {
     "name": "stderr",
     "output_type": "stream",
     "text": [
      "/home/shubham/anaconda3/lib/python3.6/site-packages/ipykernel_launcher.py:3: DeprecationWarning: \n",
      ".ix is deprecated. Please use\n",
      ".loc for label based indexing or\n",
      ".iloc for positional indexing\n",
      "\n",
      "See the documentation here:\n",
      "http://pandas.pydata.org/pandas-docs/stable/indexing.html#ix-indexer-is-deprecated\n",
      "  This is separate from the ipykernel package so we can avoid doing imports until\n",
      "/home/shubham/anaconda3/lib/python3.6/site-packages/ipykernel_launcher.py:4: DeprecationWarning: \n",
      ".ix is deprecated. Please use\n",
      ".loc for label based indexing or\n",
      ".iloc for positional indexing\n",
      "\n",
      "See the documentation here:\n",
      "http://pandas.pydata.org/pandas-docs/stable/indexing.html#ix-indexer-is-deprecated\n",
      "  after removing the cwd from sys.path.\n",
      "/home/shubham/anaconda3/lib/python3.6/site-packages/ipykernel_launcher.py:5: DeprecationWarning: \n",
      ".ix is deprecated. Please use\n",
      ".loc for label based indexing or\n",
      ".iloc for positional indexing\n",
      "\n",
      "See the documentation here:\n",
      "http://pandas.pydata.org/pandas-docs/stable/indexing.html#ix-indexer-is-deprecated\n",
      "  \"\"\"\n"
     ]
    }
   ],
   "source": [
    "for ind in pupil[pupil[\"confidence\"]<0.5].index:\n",
    "    if ind-1 > 0 and ind+1 < pupil.shape[0]:\n",
    "        pupil.ix[ind, \"norm_pos_x\"] = pupil['norm_pos_x'].mean()\n",
    "        pupil.ix[ind, \"norm_pos_y\"] = pupil['norm_pos_y'].mean()\n",
    "        pupil.ix[ind, \"confidence\"] = pupil['confidence'].mean()"
   ]
  },
  {
   "cell_type": "code",
   "execution_count": 6,
   "metadata": {},
   "outputs": [
    {
     "data": {
      "text/plain": [
       "[<matplotlib.lines.Line2D at 0x7fbe432c26a0>]"
      ]
     },
     "execution_count": 6,
     "metadata": {},
     "output_type": "execute_result"
    },
    {
     "data": {
      "image/png": "[encoded data removed]",
      "text/plain": [
       "<Figure size 432x288 with 1 Axes>"
      ]
     },
     "metadata": {},
     "output_type": "display_data"
    }
   ],
   "source": [
    "plt.ylim(0, 1.0)\n",
    "\n",
    "plt.plot(pupil['time'],pupil['norm_pos_x'])"
   ]
  },
  {
   "cell_type": "code",
   "execution_count": 7,
   "metadata": {},
   "outputs": [
    {
     "data": {
      "text/plain": [
       "[<matplotlib.lines.Line2D at 0x7fbe4326fe80>]"
      ]
     },
     "execution_count": 7,
     "metadata": {},
     "output_type": "execute_result"
    },
    {
     "data": {
      "image/png": "[encoded data removed]",
      "text/plain": [
       "<Figure size 432x288 with 1 Axes>"
      ]
     },
     "metadata": {},
     "output_type": "display_data"
    }
   ],
   "source": [
    "plt.ylim(0, 1.0)\n",
    "plt.plot(pupil['time'],pupil['norm_pos_y'])"
   ]
  },
  {
   "cell_type": "code",
   "execution_count": 8,
   "metadata": {},
   "outputs": [
    {
     "data": {
      "text/plain": [
       "[<matplotlib.lines.Line2D at 0x7fbe4325c390>]"
      ]
     },
     "execution_count": 8,
     "metadata": {},
     "output_type": "execute_result"
    },
    {
     "data": {
      "image/png": "[encoded data removed]",
      "text/plain": [
       "<Figure size 432x288 with 1 Axes>"
      ]
     },
     "metadata": {},
     "output_type": "display_data"
    }
   ],
   "source": [
    "plt.ylim(0, 1.0)\n",
    "plt.xlim(0, 1.0)\n",
    "plt.plot(pupil['norm_pos_x'],pupil['norm_pos_y'],marker = 'o',markersize = 10)"
   ]
  },
  {
   "cell_type": "code",
   "execution_count": 9,
   "metadata": {
    "collapsed": true
   },
   "outputs": [],
   "source": [
    "pupil_normal = pupil[: 1950]\n",
    "pupil_dynamic = pupil[-1950 :]"
   ]
  },
  {
   "cell_type": "code",
   "execution_count": 10,
   "metadata": {},
   "outputs": [
    {
     "data": {
      "text/plain": [
       "<matplotlib.legend.Legend at 0x7fbe431cfa90>"
      ]
     },
     "execution_count": 10,
     "metadata": {},
     "output_type": "execute_result"
    },
    {
     "data": {
      "image/png": "[encoded data removed]",
      "text/plain": [
       "<Figure size 432x288 with 1 Axes>"
      ]
     },
     "metadata": {},
     "output_type": "display_data"
    }
   ],
   "source": [
    "plt.ylim(0, 1.0)\n",
    "plt.plot(pupil_normal.reset_index(drop=True)['norm_pos_x'], label = 'Static')\n",
    "plt.plot(pupil_dynamic.reset_index(drop=True)['norm_pos_x'], label = 'Dynamic')\n",
    "plt.legend()"
   ]
  },
  {
   "cell_type": "code",
   "execution_count": 11,
   "metadata": {},
   "outputs": [
    {
     "data": {
      "text/plain": [
       "<matplotlib.legend.Legend at 0x7fbe432514a8>"
      ]
     },
     "execution_count": 11,
     "metadata": {},
     "output_type": "execute_result"
    },
    {
     "data": {
      "image/png": "[encoded data removed]",
      "text/plain": [
       "<Figure size 432x288 with 1 Axes>"
      ]
     },
     "metadata": {},
     "output_type": "display_data"
    }
   ],
   "source": [
    "plt.ylim(0, 1.0)\n",
    "plt.plot(pupil_normal.reset_index(drop=True)['norm_pos_y'], label = 'Static')\n",
    "plt.plot(pupil_dynamic.reset_index(drop=True)['norm_pos_y'], label = 'Dynamic')\n",
    "plt.legend()"
   ]
  },
  {
   "cell_type": "code",
   "execution_count": 12,
   "metadata": {
    "scrolled": true
   },
   "outputs": [
    {
     "data": {
      "text/plain": [
       "<matplotlib.legend.Legend at 0x7fbe4311d710>"
      ]
     },
     "execution_count": 12,
     "metadata": {},
     "output_type": "execute_result"
    },
    {
     "data": {
      "image/png": "[encoded data removed]",
      "text/plain": [
       "<Figure size 432x288 with 1 Axes>"
      ]
     },
     "metadata": {},
     "output_type": "display_data"
    }
   ],
   "source": [
    "plt.ylim(0, 1.0)\n",
    "plt.xlim(0, 1.0)\n",
    "\n",
    "plt.plot(pupil_normal.reset_index(drop=True)['norm_pos_x'], pupil_normal['norm_pos_y'],label = 'Static',marker = 'o',markersize = 10)\n",
    "plt.plot(pupil_dynamic.reset_index(drop=True)['norm_pos_x'], pupil_dynamic['norm_pos_y'],label = 'Dynamic',marker = 'o',markersize = 10)\n",
    "plt.legend()"
   ]
  },
  {
   "cell_type": "code",
   "execution_count": 13,
   "metadata": {
    "collapsed": true
   },
   "outputs": [],
   "source": [
    "X_1 = pupil_normal['norm_pos_x'].mean()\n",
    "X_2 = pupil_dynamic['norm_pos_x'].mean()"
   ]
  },
  {
   "cell_type": "code",
   "execution_count": 14,
   "metadata": {
    "collapsed": true
   },
   "outputs": [],
   "source": [
    "Y_1 = pupil_normal['norm_pos_y'].mean()\n",
    "Y_2 = pupil_dynamic['norm_pos_y'].mean()\n"
   ]
  },
  {
   "cell_type": "code",
   "execution_count": 15,
   "metadata": {},
   "outputs": [
    {
     "data": {
      "text/plain": [
       "[<matplotlib.lines.Line2D at 0x7fbe4326fef0>]"
      ]
     },
     "execution_count": 15,
     "metadata": {},
     "output_type": "execute_result"
    },
    {
     "data": {
      "image/png": "[encoded data removed]",
      "text/plain": [
       "<Figure size 432x288 with 1 Axes>"
      ]
     },
     "metadata": {},
     "output_type": "display_data"
    }
   ],
   "source": [
    "plt.ylim(0, 1.0)\n",
    "plt.xlim(0, 1.0)\n",
    "plt.plot(X_1,Y_1,marker = 'o',markersize = 15)\n",
    "plt.plot(X_2,Y_2,marker = 'o',markersize = 15)"
   ]
  },
  {
   "cell_type": "code",
   "execution_count": 16,
   "metadata": {},
   "outputs": [
    {
     "data": {
      "text/plain": [
       "Ttest_indResult(statistic=44.597405497232245, pvalue=0.0)"
      ]
     },
     "execution_count": 16,
     "metadata": {},
     "output_type": "execute_result"
    }
   ],
   "source": [
    "from scipy.stats import ttest_ind\n",
    "t1 = ttest_ind(pupil_normal['norm_pos_x'], pupil_dynamic['norm_pos_x'])\n",
    "t1"
   ]
  },
  {
   "cell_type": "markdown",
   "metadata": {},
   "source": [
    "# MSE"
   ]
  },
  {
   "cell_type": "code",
   "execution_count": 17,
   "metadata": {},
   "outputs": [
    {
     "data": {
      "text/plain": [
       "1.572233875549313e-05"
      ]
     },
     "execution_count": 17,
     "metadata": {},
     "output_type": "execute_result"
    }
   ],
   "source": [
    "X_mean = pupil_normal['norm_pos_x'].mean()\n",
    "mse = ((X_mean - pupil_normal['norm_pos_x']) ** 2).mean(axis = None)\n",
    "mse"
   ]
  },
  {
   "cell_type": "code",
   "execution_count": 18,
   "metadata": {},
   "outputs": [
    {
     "data": {
      "text/plain": [
       "0.010592902470283664"
      ]
     },
     "execution_count": 18,
     "metadata": {},
     "output_type": "execute_result"
    }
   ],
   "source": [
    "Y_mean = pupil_normal['norm_pos_y'].mean()\n",
    "mse = ((X_mean - pupil_normal['norm_pos_y']) ** 2).mean(axis = None)\n",
    "mse"
   ]
  },
  {
   "cell_type": "code",
   "execution_count": 19,
   "metadata": {},
   "outputs": [
    {
     "data": {
      "text/plain": [
       "2.0828498374033554e-05"
      ]
     },
     "execution_count": 19,
     "metadata": {},
     "output_type": "execute_result"
    }
   ],
   "source": [
    "mse = ((X_mean - pupil_dynamic['norm_pos_x']) ** 2).mean(axis = None)\n",
    "mse"
   ]
  },
  {
   "cell_type": "code",
   "execution_count": 20,
   "metadata": {},
   "outputs": [
    {
     "data": {
      "text/plain": [
       "8.078930330821057e-06"
      ]
     },
     "execution_count": 20,
     "metadata": {},
     "output_type": "execute_result"
    }
   ],
   "source": [
    "mse = ((Y_mean - pupil_dynamic['norm_pos_y']) ** 2).mean(axis = None)\n",
    "mse"
   ]
  },
  {
   "cell_type": "markdown",
   "metadata": {},
   "source": [
    "# VELOCITY"
   ]
  },
  {
   "cell_type": "code",
   "execution_count": 21,
   "metadata": {
    "collapsed": true
   },
   "outputs": [],
   "source": [
    "X_norm = pupil['norm_pos_x']\n",
    "Y_norm = pupil['norm_pos_y']\n",
    "f_s=300\n",
    "f_c=2\n",
    "b, a = butter(2, f_c/(f_s/2))\n",
    "Y = filtfilt(b, a, Y_norm)\n",
    "b, a = butter(2, f_c/(f_s/2))\n",
    "X = filtfilt(b, a, X_norm)\n",
    "f_c=100\n",
    "def smooth(a,WSZ = 5):\n",
    "    out0 = np.convolve(a,np.ones(WSZ,dtype=int),'valid')/WSZ    \n",
    "    r = np.arange(1,WSZ-1,2)\n",
    "    start = np.cumsum(a[:WSZ-1])[::2]/r\n",
    "    stop = (np.cumsum(a[:-WSZ:-1])[::2]/r)[::-1]\n",
    "    return np.concatenate((  start , out0, stop  ))\n",
    "b, a = butter(2, f_c/(f_s/2))\n",
    "dX = np.diff(filtfilt(b, a, X) * f_s)\n",
    "dX = smooth(dX)\n",
    "f_c=100\n",
    "b, a = butter(2, f_c/(f_s/2))\n",
    "dY = np.diff(filtfilt(b, a, Y) * f_s)\n",
    "dY = smooth(dY)\n"
   ]
  },
  {
   "cell_type": "code",
   "execution_count": 22,
   "metadata": {},
   "outputs": [
    {
     "data": {
      "text/plain": [
       "<matplotlib.legend.Legend at 0x7fbe43030940>"
      ]
     },
     "execution_count": 22,
     "metadata": {},
     "output_type": "execute_result"
    },
    {
     "data": {
      "image/png": "[encoded data removed]",
      "text/plain": [
       "<Figure size 432x288 with 1 Axes>"
      ]
     },
     "metadata": {},
     "output_type": "display_data"
    }
   ],
   "source": [
    "plt.plot(dX, label = 'dX')\n",
    "plt.legend()"
   ]
  },
  {
   "cell_type": "code",
   "execution_count": 23,
   "metadata": {},
   "outputs": [
    {
     "data": {
      "text/plain": [
       "<matplotlib.legend.Legend at 0x7fbe43030ba8>"
      ]
     },
     "execution_count": 23,
     "metadata": {},
     "output_type": "execute_result"
    },
    {
     "data": {
      "image/png": "[encoded data removed]",
      "text/plain": [
       "<Figure size 432x288 with 1 Axes>"
      ]
     },
     "metadata": {},
     "output_type": "display_data"
    }
   ],
   "source": [
    "plt.plot(dY, label = 'dY')\n",
    "plt.legend()"
   ]
  },
  {
   "cell_type": "code",
   "execution_count": null,
   "metadata": {
    "collapsed": true
   },
   "outputs": [],
   "source": []
  }
 ],
 "metadata": {
  "kernelspec": {
   "display_name": "Python 3",
   "language": "python",
   "name": "python3"
  },
  "language_info": {
   "codemirror_mode": {
    "name": "ipython",
    "version": 3
   },
   "file_extension": ".py",
   "mimetype": "text/x-python",
   "name": "python",
   "nbconvert_exporter": "python",
   "pygments_lexer": "ipython3",
   "version": "3.6.3"
  }
 },
 "nbformat": 4,
 "nbformat_minor": 2
}
